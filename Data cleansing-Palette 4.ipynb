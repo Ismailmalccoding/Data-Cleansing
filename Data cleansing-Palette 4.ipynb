{
 "cells": [
  {
   "cell_type": "code",
   "execution_count": 1,
   "id": "0c883263",
   "metadata": {},
   "outputs": [],
   "source": [
    "import pandas as pd # Library for data handling\n",
    "import numpy as np # matrix operations\n",
    "import geopandas as gpd\n",
    "import matplotlib.pyplot as plt\n",
    "import seaborn as sb\n",
    "plt.rcParams['figure.figsize'] = (20, 12)"
   ]
  },
  {
   "cell_type": "code",
   "execution_count": 51,
   "id": "ca38ee0c",
   "metadata": {},
   "outputs": [],
   "source": [
    "df = pd.read_csv('https://raw.githubusercontent.com/ruhidm/Palette_training_4/main/Sask_RM_Data.csv')"
   ]
  },
  {
   "cell_type": "code",
   "execution_count": 52,
   "id": "679d83ce",
   "metadata": {},
   "outputs": [],
   "source": [
    "# Please go to Palette_training_4 GitHub repo and \n",
    "# 1. Read Sask_RM_data.csv.\n",
    "# 2. Rename column namse Crop Year, Canola - bu/ac, Spring Wheat - bu/ac with\n",
    "# Year, Canola, SpringWheat respectively.\n",
    "     \n",
    "df.rename(columns=\n",
    "{\n",
    "    'Crop Year': 'Year',\n",
    "    'Canola - bu/ac': 'Canola',\n",
    "    'Spring Wheat - bu/ac': 'SpringWheat',\n",
    "    \n",
    "}, inplace=True)\n"
   ]
  },
  {
   "cell_type": "code",
   "execution_count": 54,
   "id": "b5bb0bd9",
   "metadata": {},
   "outputs": [
    {
     "data": {
      "text/plain": [
       "Year            0\n",
       "RM              0\n",
       "Canola         45\n",
       "SpringWheat    51\n",
       "dtype: int64"
      ]
     },
     "execution_count": 54,
     "metadata": {},
     "output_type": "execute_result"
    }
   ],
   "source": [
    "# 1. How many missing values in each column? \n",
    "\n",
    "## Your code here - down ##\n",
    "\n",
    "## Your code here - up ##\n",
    "df.isna().sum()\n"
   ]
  },
  {
   "cell_type": "code",
   "execution_count": 55,
   "id": "bfc03b68",
   "metadata": {},
   "outputs": [
    {
     "name": "stdout",
     "output_type": "stream",
     "text": [
      "The number of unique RMs are:  295\n"
     ]
    }
   ],
   "source": [
    "# 2. Find unique values of RMs(Rural Municipalities).\n",
    "\n",
    "## Your code here - down ##\n",
    "\n",
    "## Your code here - up ##\n",
    "print('The number of unique RMs are: ', df['RM'].nunique())"
   ]
  },
  {
   "cell_type": "code",
   "execution_count": 81,
   "id": "29f4855c",
   "metadata": {},
   "outputs": [
    {
     "data": {
      "text/plain": [
       "RM\n",
       "271    45.284\n",
       "470    45.018\n",
       "439    44.116\n",
       "303    43.624\n",
       "338    42.881\n",
       "493    42.819\n",
       "440    42.747\n",
       "464    42.515\n",
       "410    42.223\n",
       "434    41.868\n",
       "Name: Canola, dtype: float64"
      ]
     },
     "execution_count": 81,
     "metadata": {},
     "output_type": "execute_result"
    }
   ],
   "source": [
    "# 3. Use groupby() and find top 10 RMs in terms of average Canola yield through 10 years.\n",
    "\n",
    "## Your code here - down ##\n",
    "\n",
    "## Your code here - up ##\n",
    "df.groupby('RM')['Canola'].mean()\\\n",
    "    .sort_values(ascending=False).head(10) # 13 years average"
   ]
  },
  {
   "cell_type": "code",
   "execution_count": 84,
   "id": "7a3b152c",
   "metadata": {},
   "outputs": [
    {
     "data": {
      "text/plain": [
       "RM\n",
       "44     20.339000\n",
       "10     21.168571\n",
       "69     22.418000\n",
       "45     22.920000\n",
       "40     23.265000\n",
       "19     24.163000\n",
       "51     24.683000\n",
       "101    24.993000\n",
       "9      25.364000\n",
       "70     25.807000\n",
       "Name: SpringWheat, dtype: float64"
      ]
     },
     "execution_count": 84,
     "metadata": {},
     "output_type": "execute_result"
    }
   ],
   "source": [
    "# 4. Use groupby() function and find worst 10 RMs in terms of average Spring Wheat through 10 years.\n",
    "\n",
    "## Your code here - down ##\n",
    "\n",
    "## Your code here - up ##\n",
    "\n",
    "df.groupby('RM')['SpringWheat'].mean()\\\n",
    "    .sort_values(ascending=True).head(10) "
   ]
  },
  {
   "cell_type": "code",
   "execution_count": 99,
   "id": "bf1f53bc",
   "metadata": {},
   "outputs": [
    {
     "data": {
      "text/plain": [
       "Year\n",
       "2020    49.443357\n",
       "2019    49.227431\n",
       "2013    47.431525\n",
       "Name: SpringWheat, dtype: float64"
      ]
     },
     "execution_count": 99,
     "metadata": {},
     "output_type": "execute_result"
    }
   ],
   "source": [
    "# 4. Use groupby() function and find worst 3 best years in terms of average Spring Wheat.\n",
    "\n",
    "## Your code here - down ##\n",
    "\n",
    "## Your code here - up ##\n",
    "df.groupby('Year')['SpringWheat'].mean()\\\n",
    "    .sort_values( ascending=False).head(3) "
   ]
  },
  {
   "cell_type": "code",
   "execution_count": 100,
   "id": "33c2864a",
   "metadata": {},
   "outputs": [
    {
     "data": {
      "text/plain": [
       "Year\n",
       "2021    30.216725\n",
       "2012    34.831633\n",
       "2015    37.016599\n",
       "Name: SpringWheat, dtype: float64"
      ]
     },
     "execution_count": 100,
     "metadata": {},
     "output_type": "execute_result"
    }
   ],
   "source": [
    "# 5. Use groupby() function and find worst 3 years in terms of average Spring Wheat through 10 years.\n",
    "\n",
    "## Your code here - down ##\n",
    "\n",
    "## Your code here - up ##\n",
    "df.groupby('Year')['SpringWheat'].mean()\\\n",
    "    .sort_values( ascending=True).head(3) "
   ]
  },
  {
   "cell_type": "code",
   "execution_count": null,
   "id": "5f720e69",
   "metadata": {},
   "outputs": [],
   "source": []
  }
 ],
 "metadata": {
  "kernelspec": {
   "display_name": "Python 3 (ipykernel)",
   "language": "python",
   "name": "python3"
  },
  "language_info": {
   "codemirror_mode": {
    "name": "ipython",
    "version": 3
   },
   "file_extension": ".py",
   "mimetype": "text/x-python",
   "name": "python",
   "nbconvert_exporter": "python",
   "pygments_lexer": "ipython3",
   "version": "3.9.13"
  }
 },
 "nbformat": 4,
 "nbformat_minor": 5
}
